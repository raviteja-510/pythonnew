{
  "nbformat": 4,
  "nbformat_minor": 0,
  "metadata": {
    "colab": {
      "name": "Untitled0.ipynb",
      "provenance": [],
      "authorship_tag": "ABX9TyN5fdv4vs+JOKNXQmrY7Zqt",
      "include_colab_link": true
    },
    "kernelspec": {
      "name": "python3",
      "display_name": "Python 3"
    },
    "language_info": {
      "name": "python"
    }
  },
  "cells": [
    {
      "cell_type": "markdown",
      "metadata": {
        "id": "view-in-github",
        "colab_type": "text"
      },
      "source": [
        "<a href=\"https://colab.research.google.com/github/raviteja-510/pythonnew/blob/module1/Untitled0.ipynb\" target=\"_parent\"><img src=\"https://colab.research.google.com/assets/colab-badge.svg\" alt=\"Open In Colab\"/></a>"
      ]
    },
    {
      "cell_type": "code",
      "execution_count": null,
      "metadata": {
        "colab": {
          "base_uri": "https://localhost:8080/"
        },
        "id": "Lk9OeIZ9P6rb",
        "outputId": "5c34b7d8-736f-4eed-a146-397b2e98e8c6"
      },
      "outputs": [
        {
          "output_type": "stream",
          "name": "stdout",
          "text": [
            "eligible to vote\n"
          ]
        }
      ],
      "source": [
        "##find out the person eligible for vote or not ?\n",
        "##static\n",
        "a=19\n",
        "if a>=18:\n",
        " print('eligible to vote');\n",
        "else:\n",
        " print('not eligible to vote');"
      ]
    },
    {
      "cell_type": "code",
      "source": [
        "##find out the person eligible for vote or not ?\n",
        "##dynamic\n",
        "age=int(a)\n",
        "a=input('enter the age')\n",
        "if age>=18:\n",
        " print('eligible to vote');\n",
        "else:\n",
        " print('not eligible to vote');"
      ],
      "metadata": {
        "colab": {
          "base_uri": "https://localhost:8080/"
        },
        "id": "F6x3LfIlSjR3",
        "outputId": "0ee83c34-a6bd-4a8b-9c3c-b138fa397731"
      },
      "execution_count": null,
      "outputs": [
        {
          "output_type": "stream",
          "name": "stdout",
          "text": [
            "enter the age15\n",
            "not eligible to vote\n"
          ]
        }
      ]
    },
    {
      "cell_type": "code",
      "source": [
        "##find the grade of a student for five subject\n"
      ],
      "metadata": {
        "id": "MARBKWOSTiOI"
      },
      "execution_count": null,
      "outputs": []
    },
    {
      "cell_type": "code",
      "source": [
        "##maximum of 3 numbers\n",
        "##static\n",
        "a=1\n",
        "b=2\n",
        "c=3\n",
        "if a>b and a>c:\n",
        "  print('a is the biggest');\n",
        "elif b>a and b>c:\n",
        "  printf('b is the biggest');\n",
        "else:\n",
        "  print('c is the biggest');"
      ],
      "metadata": {
        "colab": {
          "base_uri": "https://localhost:8080/"
        },
        "id": "maTqsudIUdXv",
        "outputId": "823f4e53-1893-42c7-efdb-410cd36c3c67"
      },
      "execution_count": null,
      "outputs": [
        {
          "output_type": "stream",
          "name": "stdout",
          "text": [
            "c is the biggest\n"
          ]
        }
      ]
    },
    {
      "cell_type": "code",
      "source": [
        "##maximum of 3 numbers\n",
        "##dynamic\n",
        "a=int(input(\"enter a\"))\n",
        "b=int(input(\"enter b\"))\n",
        "c=int(input(\"enter c\"))\n",
        "if a>b and a>c:\n",
        "  print('a is the biggest');\n",
        "elif b>a and b>c:\n",
        "  printf('b is the biggest');\n",
        "else:\n",
        "  print('c is the biggest');\n",
        "\n",
        "\n"
      ],
      "metadata": {
        "colab": {
          "base_uri": "https://localhost:8080/"
        },
        "id": "RSG6OaV6VWi4",
        "outputId": "44788eda-6260-40f2-fdfe-173c8e761fa1"
      },
      "execution_count": null,
      "outputs": [
        {
          "output_type": "stream",
          "name": "stdout",
          "text": [
            "enter a1\n",
            "enter b2\n",
            "enter c3\n",
            "c is the biggest\n"
          ]
        }
      ]
    },
    {
      "cell_type": "code",
      "source": [
        "##check weather the given triangle id equilateral ,isosceles , scalen\n",
        "a=2\n",
        "b=3\n",
        "c=2\n",
        "if a==b and b==c and c==a:\n",
        "  print('it is a equilateral triangle');\n",
        "elif a!=b and b!=c and c!=a:\n",
        "   printf('it is a scalen triangle');\n",
        "else:\n",
        "  print('it is a isosceles triangle');\n"
      ],
      "metadata": {
        "colab": {
          "base_uri": "https://localhost:8080/"
        },
        "id": "1wQyJW5BWNLN",
        "outputId": "48923f68-9f9d-4c44-f231-0be3daa57f6f"
      },
      "execution_count": null,
      "outputs": [
        {
          "output_type": "stream",
          "name": "stdout",
          "text": [
            "it is a isosceles triangle\n"
          ]
        }
      ]
    },
    {
      "cell_type": "code",
      "source": [
        "##check weather the given triangle id equilateral ,isosceles , scalen\n",
        "##dynamic\n",
        "a=int(input(\"enter the value of the side a\"))\n",
        "b=int(input(\"enter the value of the side b\"))\n",
        "c=int(input(\"enter the value of the side c\"))\n",
        "if a==b and b==c and c==a:\n",
        "  print('it is a equilateral triangle');\n",
        "elif a!=b and b!=c and c!=a:\n",
        "   print\n",
        "   ('it is a scalen triangle');\n",
        "else:\n",
        "  print('it is a isosceles triangle');\n",
        "\n"
      ],
      "metadata": {
        "colab": {
          "base_uri": "https://localhost:8080/"
        },
        "id": "VfYymxi0Xs3G",
        "outputId": "497944db-4cd7-4849-9419-8468090767e4"
      },
      "execution_count": null,
      "outputs": [
        {
          "output_type": "stream",
          "name": "stdout",
          "text": [
            "enter the value of the side a1\n",
            "enter the value of the side b2\n",
            "enter the value of the side c3\n",
            "it is a scalen triangle\n"
          ]
        }
      ]
    },
    {
      "cell_type": "code",
      "source": [
        "##leap year\n",
        "##dynamic\n",
        "a=int(input(\"enter the year\"))\n",
        "if a%400==0:\n",
        "  print(\"it is a leap year\");\n",
        "elif a%100==0:\n",
        "  print(\"it is not a leap year\");\n",
        "elif a%4==0:\n",
        "  print(\"it is a leap year\");\n",
        "else:\n",
        "  print('it is not a leap year');\n",
        "\n",
        "\n",
        "   "
      ],
      "metadata": {
        "colab": {
          "base_uri": "https://localhost:8080/"
        },
        "id": "R_oSDvBRYVCV",
        "outputId": "6c70cb78-218d-4d4e-9ae0-47c08682d9eb"
      },
      "execution_count": null,
      "outputs": [
        {
          "output_type": "stream",
          "name": "stdout",
          "text": [
            "enter the year2022\n",
            "it is not a leap year\n"
          ]
        }
      ]
    },
    {
      "cell_type": "code",
      "source": [
        "##minimum among three numbers \n",
        "a=int(input(\"enter a\"))\n",
        "b=int(input(\"enter b\"))\n",
        "c=int(input(\"enter c\"))\n",
        "if a<b and a<c:\n",
        "  print('a is the small');\n",
        "elif b<a and b<c:\n",
        "  printf('b is the small');\n",
        "else:\n",
        "  print('c is the small3');\n",
        "\n"
      ],
      "metadata": {
        "colab": {
          "base_uri": "https://localhost:8080/"
        },
        "id": "gitK_AJbbQT9",
        "outputId": "cd31fc17-d06c-4142-a392-3996b2c0e79f"
      },
      "execution_count": null,
      "outputs": [
        {
          "output_type": "stream",
          "name": "stdout",
          "text": [
            "enter a1\n",
            "enter b2\n",
            "enter c3\n",
            "a is the small\n"
          ]
        }
      ]
    },
    {
      "cell_type": "code",
      "source": [
        "##check the given number is divisible by 11 or 5\n",
        "a=int(input(\"enter the number\"))\n",
        "if a%11==0 and a%5==0:  \n",
        "  print(\"it is divisible by both 5 and 11\")\n",
        "else:\n",
        "  print(\"it is not divisible  \")"
      ],
      "metadata": {
        "colab": {
          "base_uri": "https://localhost:8080/"
        },
        "id": "ZPc974tOcEq8",
        "outputId": "79424f75-636b-4462-f59d-2c5be507bec6"
      },
      "execution_count": null,
      "outputs": [
        {
          "output_type": "stream",
          "name": "stdout",
          "text": [
            "enter the number55\n",
            "it is divisible by both 5 and 11\n"
          ]
        }
      ]
    },
    {
      "cell_type": "code",
      "source": [
        ""
      ],
      "metadata": {
        "id": "CYjt73Jielpv"
      },
      "execution_count": null,
      "outputs": []
    },
    {
      "cell_type": "code",
      "source": [
        "##"
      ],
      "metadata": {
        "id": "S1Iulv5acwKq"
      },
      "execution_count": null,
      "outputs": []
    }
  ]
}