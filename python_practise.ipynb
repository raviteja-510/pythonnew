{
  "nbformat": 4,
  "nbformat_minor": 0,
  "metadata": {
    "colab": {
      "name": "python-practise.ipynb",
      "provenance": [],
      "authorship_tag": "ABX9TyP61D6fJTswAiOtYCZU9wR2",
      "include_colab_link": true
    },
    "kernelspec": {
      "name": "python3",
      "display_name": "Python 3"
    },
    "language_info": {
      "name": "python"
    }
  },
  "cells": [
    {
      "cell_type": "markdown",
      "metadata": {
        "id": "view-in-github",
        "colab_type": "text"
      },
      "source": [
        "<a href=\"https://colab.research.google.com/github/raviteja-510/pythonnew/blob/module1/python_practise.ipynb\" target=\"_parent\"><img src=\"https://colab.research.google.com/assets/colab-badge.svg\" alt=\"Open In Colab\"/></a>"
      ]
    },
    {
      "cell_type": "code",
      "execution_count": null,
      "metadata": {
        "colab": {
          "base_uri": "https://localhost:8080/"
        },
        "id": "8SSOn-zXIxV9",
        "outputId": "7a7db75d-ffaf-4238-d745-f93eb07776e3"
      },
      "outputs": [
        {
          "output_type": "stream",
          "name": "stdout",
          "text": [
            "10.0\n",
            "<class 'float'>\n"
          ]
        }
      ],
      "source": [
        "a=10;\n",
        "b=10;\n",
        "c=10;\n",
        "avg=(a+b+c)/3;\n",
        "print(avg);\n",
        "print(type(avg));"
      ]
    },
    {
      "cell_type": "code",
      "source": [
        "a=int(input(\"enter the number1=\"))"
      ],
      "metadata": {
        "colab": {
          "base_uri": "https://localhost:8080/"
        },
        "id": "pgkte9qQKYtQ",
        "outputId": "de492112-c127-4a74-fbd6-890f61bf68eb"
      },
      "execution_count": null,
      "outputs": [
        {
          "name": "stdout",
          "output_type": "stream",
          "text": [
            "enter the number1=10\n"
          ]
        }
      ]
    },
    {
      "cell_type": "code",
      "source": [
        "a=int(input(\"enter the number1=\"))\n",
        "b=float(input(\"enter the number2=\"))\n",
        "avg=(a+b)/2;\n",
        "print(avg);\n",
        "print(input(avg))\n",
        "print(input(a))\n",
        "print(input(b))\n",
        "\n"
      ],
      "metadata": {
        "id": "_JLJB9ffLgfF"
      },
      "execution_count": null,
      "outputs": []
    },
    {
      "cell_type": "code",
      "source": [
        "b=float(input(\"enter the number2=\"))"
      ],
      "metadata": {
        "colab": {
          "base_uri": "https://localhost:8080/"
        },
        "id": "Gbrx6uOkLEKV",
        "outputId": "d15c1b5d-0089-4ee9-d251-0d7a478f32af"
      },
      "execution_count": null,
      "outputs": [
        {
          "name": "stdout",
          "output_type": "stream",
          "text": [
            "enter the number2=10\n"
          ]
        }
      ]
    }
  ]
}