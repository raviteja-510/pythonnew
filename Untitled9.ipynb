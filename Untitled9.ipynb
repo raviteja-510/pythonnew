{
  "nbformat": 4,
  "nbformat_minor": 0,
  "metadata": {
    "colab": {
      "name": "Untitled9.ipynb",
      "provenance": [],
      "authorship_tag": "ABX9TyPbgKevWnDytMyLHLdtALCO",
      "include_colab_link": true
    },
    "kernelspec": {
      "name": "python3",
      "display_name": "Python 3"
    },
    "language_info": {
      "name": "python"
    }
  },
  "cells": [
    {
      "cell_type": "markdown",
      "metadata": {
        "id": "view-in-github",
        "colab_type": "text"
      },
      "source": [
        "<a href=\"https://colab.research.google.com/github/raviteja-510/pythonnew/blob/module4/Untitled9.ipynb\" target=\"_parent\"><img src=\"https://colab.research.google.com/assets/colab-badge.svg\" alt=\"Open In Colab\"/></a>"
      ]
    },
    {
      "cell_type": "code",
      "execution_count": null,
      "metadata": {
        "colab": {
          "base_uri": "https://localhost:8080/"
        },
        "id": "LPCNgc1O8Llt",
        "outputId": "e90b50dd-f868-431e-e6d9-699c395bbec3"
      },
      "outputs": [
        {
          "output_type": "stream",
          "name": "stdout",
          "text": [
            "match\n"
          ]
        }
      ],
      "source": [
        "import re\n",
        "txt=\"HI I AM KOLLURU TEJA STUDING IN GITAM COLLAGE\"\n",
        "x=re.search(\"^HI.*COLLAGE$\",txt)\n",
        "if x:\n",
        "  print(\"match\")\n",
        "else:\n",
        "  print(\"no match\")\n"
      ]
    },
    {
      "cell_type": "code",
      "source": [
        "import re\n",
        "txt=\"HI I AM KOLLURU TEJA STUDING IN GITAM COLLAGE\"\n",
        "x = re.findall(\"^HI.*COLLAGE$\",txt)\n",
        "if x:\n",
        "  print(\"match\")\n",
        "else:\n",
        "  print(\"no match\")\n"
      ],
      "metadata": {
        "colab": {
          "base_uri": "https://localhost:8080/"
        },
        "id": "v59hIOIHBHH2",
        "outputId": "3d8c2a55-488e-413b-ae66-620e3fa20e36"
      },
      "execution_count": null,
      "outputs": [
        {
          "output_type": "stream",
          "name": "stdout",
          "text": [
            "match\n"
          ]
        }
      ]
    }
  ]
}